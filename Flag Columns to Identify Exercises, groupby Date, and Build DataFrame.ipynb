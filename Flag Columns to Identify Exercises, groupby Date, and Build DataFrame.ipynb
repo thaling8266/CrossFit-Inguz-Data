{
 "cells": [
  {
   "cell_type": "code",
   "execution_count": null,
   "id": "d2ef5403",
   "metadata": {},
   "outputs": [],
   "source": [
    "import pandas as pd\n",
    "import numpy as np"
   ]
  },
  {
   "cell_type": "code",
   "execution_count": null,
   "id": "ce675535",
   "metadata": {},
   "outputs": [],
   "source": [
    "pd.options.display.max_rows = 10000\n",
    "pd.set_option('display.max_colwidth',200)"
   ]
  },
  {
   "cell_type": "code",
   "execution_count": null,
   "id": "0c6c244a",
   "metadata": {},
   "outputs": [],
   "source": [
    "import_file = r'C:\\Users\\halin\\OneDrive\\Documents\\Data_Coding_Reporting\\Inguz\\WODdata.xlsx'"
   ]
  },
  {
   "cell_type": "code",
   "execution_count": null,
   "id": "6ae0ff71",
   "metadata": {},
   "outputs": [],
   "source": [
    "dtypes = {\n",
    "    'Data':'object',\n",
    "    'Date':'datetime64[ns]',\n",
    "    'Row Type':'category',\n",
    "        }"
   ]
  },
  {
   "cell_type": "code",
   "execution_count": null,
   "id": "67452b3b",
   "metadata": {},
   "outputs": [],
   "source": [
    "df = pd.read_excel(import_file, engine='openpyxl', dtype=dtypes)"
   ]
  },
  {
   "cell_type": "code",
   "execution_count": null,
   "id": "d4519abc",
   "metadata": {},
   "outputs": [],
   "source": [
    "df = df.drop('Column1', axis=1) #drop axis carried over"
   ]
  },
  {
   "cell_type": "code",
   "execution_count": null,
   "id": "4c4865cb",
   "metadata": {},
   "outputs": [],
   "source": [
    "#df.head()\n",
    "len(df) #9812"
   ]
  },
  {
   "cell_type": "markdown",
   "id": "2b9141a9",
   "metadata": {},
   "source": [
    "## Remove WOD names by dropping rows with either open or close parentheses."
   ]
  },
  {
   "cell_type": "code",
   "execution_count": null,
   "id": "56d476a5",
   "metadata": {},
   "outputs": [],
   "source": [
    "#df_wod_names = \n",
    "#len(df.loc[~df['Data'].str.contains('“',na=False) | ~df['Data'].str.contains('”',na=False)]) #8992 (some will have open and no closed, and vice versa)\n",
    "#len(df[~df['Data'].str.contains('“',na=False) & ~df['Data'].str.contains('”',na=False)]) #8984 (that don't have open OR Closed)\n",
    "#len(df[df['Data'].str.contains('“',na=False) | df['Data'].str.contains('”',na=False)]) #828\n",
    "df = df[~df['Data'].str.contains('“',na=False) & ~df['Data'].str.contains('”',na=False)]"
   ]
  },
  {
   "cell_type": "markdown",
   "id": "1b8d6adb",
   "metadata": {},
   "source": [
    "## Drop Rows that contain an NA value and therefore no relevant data"
   ]
  },
  {
   "cell_type": "code",
   "execution_count": null,
   "id": "374bb245",
   "metadata": {},
   "outputs": [],
   "source": [
    "df = df.dropna(axis=0, how='any')\n",
    "#len(df) #8984\n",
    "#df[df['Date']=='2020-01-01\t']\n",
    "#df['Row Type'].value_counts() #8984 - means there are no NA values in 'Row Type' column"
   ]
  },
  {
   "cell_type": "markdown",
   "id": "2f4545bb",
   "metadata": {},
   "source": [
    "## Drop 'Row Type' column"
   ]
  },
  {
   "cell_type": "code",
   "execution_count": null,
   "id": "62279d69",
   "metadata": {},
   "outputs": [],
   "source": [
    "df = df[['Data','Date']]"
   ]
  },
  {
   "cell_type": "markdown",
   "id": "048d26d3",
   "metadata": {},
   "source": [
    "## Create Flag Columns for Each Exercise"
   ]
  },
  {
   "cell_type": "code",
   "execution_count": null,
   "id": "1d9b361b",
   "metadata": {},
   "outputs": [],
   "source": [
    "df['Thruster'] = np.where(df['Data'].str.contains('thruster', case=False), 1,0)"
   ]
  },
  {
   "cell_type": "code",
   "execution_count": null,
   "id": "1c237f3a",
   "metadata": {},
   "outputs": [],
   "source": [
    "df['Double Under'] = np.where(df['Data'].str.contains('double', case=False) & (df['Data'].str.contains('under', case=False) | df['Data'].str.contains('jump', case=False)), 1,0)"
   ]
  },
  {
   "cell_type": "code",
   "execution_count": null,
   "id": "6dbe5f31",
   "metadata": {},
   "outputs": [],
   "source": [
    "df['Pull-Up'] = np.where((df['Data'].str.contains('pull', case=False) | df['Data'].str.contains('muscle', case=False)) & df['Data'].str.contains('up', case=False), 1,0)"
   ]
  },
  {
   "cell_type": "code",
   "execution_count": null,
   "id": "d05a58f6",
   "metadata": {},
   "outputs": [],
   "source": [
    "df['Clean & Jerk'] = np.where(df['Data'].str.contains('clean', case=False) & df['Data'].str.contains('jerk', case=False), 1,0)"
   ]
  },
  {
   "cell_type": "code",
   "execution_count": null,
   "id": "5fc581b6",
   "metadata": {},
   "outputs": [],
   "source": [
    "df['Clean'] = np.where(df['Data'].str.contains('clean', case=False) & df['Data'].str.contains('jerk', case=False), 0, #to differentiate clean & jerk\n",
    "              np.where(df['Data'].str.contains('clean', case=False),1,0)) #where true yield x otherwise yield y"
   ]
  },
  {
   "cell_type": "code",
   "execution_count": null,
   "id": "7c3fa0af",
   "metadata": {},
   "outputs": [],
   "source": [
    "df['Snatch'] = np.where(df['Data'].str.contains('snatch', case=False), 1,0)"
   ]
  },
  {
   "cell_type": "code",
   "execution_count": null,
   "id": "ed32b3ff",
   "metadata": {},
   "outputs": [],
   "source": [
    "df['Squat'] = np.where(df['Data'].str.contains('squat', case=False) & df['Data'].str.contains('clean', case=False), 0, #to differentiate squat cleans\n",
    "              np.where(df['Data'].str.contains('squat', case=False) & df['Data'].str.contains('snatch', case=False), 0, #to differentiate squat snatches\n",
    "              np.where(df['Data'].str.contains('squat', case=False),1,0))) #where true yield x otherwise yield y"
   ]
  },
  {
   "cell_type": "code",
   "execution_count": null,
   "id": "5a2e00fe",
   "metadata": {},
   "outputs": [],
   "source": [
    "df['Sit-Up'] = np.where(df['Data'].str.contains('sit', case=False) & df['Data'].str.contains('up', case=False), 1,0)"
   ]
  },
  {
   "cell_type": "code",
   "execution_count": null,
   "id": "ac9f25b5",
   "metadata": {},
   "outputs": [],
   "source": [
    "df['Box Jump'] = np.where(df['Data'].str.contains('box', case=False) & df['Data'].str.contains('jump', case=False), 1,0)"
   ]
  },
  {
   "cell_type": "code",
   "execution_count": null,
   "id": "42353b56",
   "metadata": {},
   "outputs": [],
   "source": [
    "df['Lunge'] = np.where(df['Data'].str.contains('lunge', case=False), 1,0)"
   ]
  },
  {
   "cell_type": "code",
   "execution_count": null,
   "id": "6066af24",
   "metadata": {},
   "outputs": [],
   "source": [
    "df['Toes to Bar'] = np.where(df['Data'].str.contains('toes', case=False) & df['Data'].str.contains('bar', case=False), 1,0)"
   ]
  },
  {
   "cell_type": "code",
   "execution_count": null,
   "id": "4d989c29",
   "metadata": {},
   "outputs": [],
   "source": [
    "df['Push Jerk'] = np.where(df['Data'].str.contains('push', case=False) & df['Data'].str.contains('jerk', case=False), 1,0)"
   ]
  },
  {
   "cell_type": "code",
   "execution_count": null,
   "id": "ab38473b",
   "metadata": {},
   "outputs": [],
   "source": [
    "df['Press/Devil Press'] = np.where((df['Data'].str.contains('bench', case=False) | df['Data'].str.contains('floor', case=False)) & df['Data'].str.contains('press', case=False), 0, #to differentiate clean & jerk\n",
    "              np.where(df['Data'].str.contains('press', case=False),1,0)) #where true yield x otherwise yield y"
   ]
  },
  {
   "cell_type": "code",
   "execution_count": null,
   "id": "caf2640f",
   "metadata": {},
   "outputs": [],
   "source": [
    "df['Bench/Floor Press'] = np.where((df['Data'].str.contains('bench', case=False) | df['Data'].str.contains('floor', case=False)) & df['Data'].str.contains('press', case=False), 1,0)"
   ]
  },
  {
   "cell_type": "code",
   "execution_count": null,
   "id": "e9137381",
   "metadata": {},
   "outputs": [],
   "source": [
    "df['Bike/Row/Run'] = np.where(df['Data'].str.contains('bike', case=False) | df['Data'].str.contains('row', case=False)  | df['Data'].str.contains('run', case=False), 1,0)"
   ]
  },
  {
   "cell_type": "code",
   "execution_count": null,
   "id": "80934545",
   "metadata": {},
   "outputs": [],
   "source": [
    "df['Sprint'] = np.where(df['Data'].str.contains('sprint', case=False), 1,0)"
   ]
  },
  {
   "cell_type": "code",
   "execution_count": null,
   "id": "07a2f370",
   "metadata": {},
   "outputs": [],
   "source": [
    "df['Farmer Carry'] = np.where(df['Data'].str.contains('farmer', case=False) & df['Data'].str.contains('carry', case=False), 1,0)"
   ]
  },
  {
   "cell_type": "code",
   "execution_count": null,
   "id": "78897be6",
   "metadata": {},
   "outputs": [],
   "source": [
    "df['Plate Ground to Overhead'] = np.where(df['Data'].str.contains('plate', case=False) & df['Data'].str.contains('ground', case=False) & df['Data'].str.contains('overhead', case=False), 1,0)"
   ]
  },
  {
   "cell_type": "code",
   "execution_count": null,
   "id": "7f242fc4",
   "metadata": {},
   "outputs": [],
   "source": [
    "df['Kettlebell swing'] = np.where((df['Data'].str.contains('kettle', case=False) | df['Data'].str.contains('kb', case=False) | df['Data'].str.contains('dumbbell', case=False)) & df['Data'].str.contains('swing', case=False), 1,0)"
   ]
  },
  {
   "cell_type": "code",
   "execution_count": null,
   "id": "0b3a99c9",
   "metadata": {},
   "outputs": [],
   "source": [
    "df['Wall Walk'] = np.where(df['Data'].str.contains('wall', case=False) & df['Data'].str.contains('walk', case=False), 1,0)"
   ]
  },
  {
   "cell_type": "code",
   "execution_count": null,
   "id": "f324ce02",
   "metadata": {},
   "outputs": [],
   "source": [
    "df['Wall Ball'] = np.where(df['Data'].str.contains('wall', case=False) & df['Data'].str.contains('ball', case=False), 1,0)"
   ]
  },
  {
   "cell_type": "code",
   "execution_count": null,
   "id": "7011cba8",
   "metadata": {},
   "outputs": [],
   "source": [
    "df['Burpee'] = np.where(df['Data'].str.contains('burpee', case=False), 1,0)"
   ]
  },
  {
   "cell_type": "code",
   "execution_count": null,
   "id": "5c7b98b8",
   "metadata": {},
   "outputs": [],
   "source": [
    "df['Deadlift'] = np.where(df['Data'].str.contains('deadlift', case=False), 1,0)"
   ]
  },
  {
   "cell_type": "code",
   "execution_count": null,
   "id": "fa477a8a",
   "metadata": {},
   "outputs": [],
   "source": [
    "df['Step Up/Over'] = np.where(df['Data'].str.contains('step', case=False) & (df['Data'].str.contains('up', case=False) | df['Data'].str.contains('over', case=False)), 1,0)"
   ]
  },
  {
   "cell_type": "code",
   "execution_count": null,
   "id": "1860a157",
   "metadata": {},
   "outputs": [],
   "source": [
    "df['Push Up'] = np.where(df['Data'].str.contains('push', case=False) & df['Data'].str.contains('up', case=False), 1,0)"
   ]
  },
  {
   "cell_type": "code",
   "execution_count": null,
   "id": "0a87192e",
   "metadata": {},
   "outputs": [],
   "source": [
    "df['Rope Climb'] = np.where(df['Data'].str.contains('rope', case=False) & df['Data'].str.contains('climb', case=False), 1,0)"
   ]
  },
  {
   "cell_type": "code",
   "execution_count": null,
   "id": "26037e62",
   "metadata": {},
   "outputs": [],
   "source": [
    "df['Glute Bridge'] = np.where(df['Data'].str.contains('glute', case=False) & df['Data'].str.contains('bridge', case=False), 1,0)"
   ]
  },
  {
   "cell_type": "code",
   "execution_count": null,
   "id": "f8cb4063",
   "metadata": {},
   "outputs": [],
   "source": [
    "df['Rest'] = np.where(df['Data'].str.contains('rest', case=False), 1,0)"
   ]
  },
  {
   "cell_type": "code",
   "execution_count": null,
   "id": "375b24f7",
   "metadata": {},
   "outputs": [],
   "source": [
    "df['Dips'] = np.where(df['Data'].str.contains('dips', case=False), 1,0)"
   ]
  },
  {
   "cell_type": "code",
   "execution_count": null,
   "id": "4b32614c",
   "metadata": {},
   "outputs": [],
   "source": []
  },
  {
   "cell_type": "code",
   "execution_count": null,
   "id": "a2c63172",
   "metadata": {},
   "outputs": [],
   "source": []
  },
  {
   "cell_type": "code",
   "execution_count": null,
   "id": "65ee02ee",
   "metadata": {
    "scrolled": true
   },
   "outputs": [],
   "source": [
    "df.head(100)"
   ]
  },
  {
   "cell_type": "markdown",
   "id": "2a6dfde4",
   "metadata": {},
   "source": [
    "## Validate all Exerices Have Been Included by Identifying Rows Where All Columns = 0 (meaning there is no match for an exercise)"
   ]
  },
  {
   "cell_type": "code",
   "execution_count": null,
   "id": "2aab9e2c",
   "metadata": {
    "scrolled": false
   },
   "outputs": [],
   "source": [
    "df.columns"
   ]
  },
  {
   "cell_type": "code",
   "execution_count": null,
   "id": "ee028ce8",
   "metadata": {},
   "outputs": [],
   "source": [
    "df[(df[['Thruster', 'Double Under', 'Pull-Up', 'Clean & Jerk',\n",
    "       'Clean', 'Snatch', 'Squat', 'Sit-Up', 'Box Jump', 'Lunge',\n",
    "       'Toes to Bar', 'Push Jerk', 'Press', 'Bench Press',\n",
    "       'Bike/Row/Run', 'Sprint', 'Farmer Carry', 'Plate Ground to Overhead',\n",
    "       'Kettlebell swing', 'Wall Walk', 'Wall Ball', 'Burpee', 'Deadlift',\n",
    "       'Step Up/Over', 'Push Up', 'Rope Climb', 'Glute Bridge', 'Rest',\n",
    "       'Dips']]==0).all(axis=1)] #3,785 rows where all of these columns = 0"
   ]
  },
  {
   "cell_type": "code",
   "execution_count": null,
   "id": "2234b040",
   "metadata": {},
   "outputs": [],
   "source": [
    "#df.loc[[276]] #to validate the kb swing logic works\n",
    "#df.loc[[459]] #misspelled 'famers carry' doesn't flag \n",
    "#df.loc[[657]] #muscle-up\n",
    "#df.loc[[960]] #double tap jump\n",
    "df.loc[[1583]] #dumbbell swing\n",
    "df.loc[[1841]]\n",
    "#df.loc[[276]].info() #returns a dataframe\n",
    "#df.loc[276].info() #returns a series"
   ]
  },
  {
   "cell_type": "code",
   "execution_count": null,
   "id": "d0b1b5db",
   "metadata": {},
   "outputs": [],
   "source": [
    "len(df[df['Clean'] == 1]) #197\n",
    "len(df[df['Clean & Jerk'] == 1]) #112"
   ]
  },
  {
   "cell_type": "markdown",
   "id": "ad48c4ac",
   "metadata": {},
   "source": [
    "## Named Aggregation (Column-Specific Aggregation), i.e., groupby.agg()"
   ]
  },
  {
   "cell_type": "code",
   "execution_count": null,
   "id": "dca6e001",
   "metadata": {},
   "outputs": [],
   "source": [
    "#df.groupby('Date', as_index=False)['Data'].apply(','.join)['Thruster'].max()"
   ]
  },
  {
   "cell_type": "code",
   "execution_count": null,
   "id": "042b41dc",
   "metadata": {},
   "outputs": [],
   "source": [
    "df = df.groupby(['Date'],as_index=False).agg({ #You can just tell .agg() which aggregator functions to use for each column, and for the string columns, pass ' '.join (notice there're no parenthesis since you don't want to call .join but rather pass it as the argument itself):\n",
    "'Data': ', '.join, \n",
    "'Thruster': 'max', \n",
    "'Double Under': 'max', \n",
    "'Pull-Up': 'max', \n",
    "'Clean & Jerk': 'max',\n",
    "'Clean': 'max', \n",
    "'Snatch': 'max', \n",
    "'Squat': 'max', \n",
    "'Sit-Up': 'max', \n",
    "'Box Jump': 'max', \n",
    "'Lunge': 'max',\n",
    "'Toes to Bar': 'max',\n",
    "'Push Jerk': 'max', \n",
    "'Press/Devil Press': 'max', \n",
    "'Bench/Floor Press': 'max',\n",
    "'Bike/Row/Run': 'max',\n",
    "'Sprint': 'max',\n",
    "'Farmer Carry': 'max',\n",
    "'Plate Ground to Overhead': 'max',\n",
    "'Kettlebell swing': 'max', \n",
    "'Wall Walk': 'max',\n",
    "'Wall Ball': 'max', \n",
    "'Burpee': 'max',\n",
    "'Deadlift': 'max',\n",
    "'Step Up/Over': 'max', \n",
    "'Push Up': 'max', \n",
    "'Rope Climb': 'max',\n",
    "'Glute Bridge': 'max', \n",
    "'Rest': 'max',\n",
    "})"
   ]
  },
  {
   "cell_type": "code",
   "execution_count": null,
   "id": "f04b010f",
   "metadata": {},
   "outputs": [],
   "source": []
  }
 ],
 "metadata": {
  "kernelspec": {
   "display_name": "Python 3 (ipykernel)",
   "language": "python",
   "name": "python3"
  },
  "language_info": {
   "codemirror_mode": {
    "name": "ipython",
    "version": 3
   },
   "file_extension": ".py",
   "mimetype": "text/x-python",
   "name": "python",
   "nbconvert_exporter": "python",
   "pygments_lexer": "ipython3",
   "version": "3.9.7"
  }
 },
 "nbformat": 4,
 "nbformat_minor": 5
}
